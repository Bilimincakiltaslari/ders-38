{
 "cells": [
  {
   "cell_type": "code",
   "execution_count": null,
   "metadata": {},
   "outputs": [],
   "source": [
    "metin = \"\"\"Bu programlama dili Guido Van Rossum adlı Hollandalı bir programcı\n",
    "tarafından 90’lı yılların başında geliştirilmeye başlanmıştır. Çoğu insan,\n",
    "isminin Python olmasına aldanarak, bu programlama dilinin, adını piton\n",
    "yılanından aldığını düşünür. Ancak zannedildiğinin aksine bu programlama dilinin\n",
    "adı piton yılanından gelmez. Guido Van Rossum bu programlama dilini, The Monty\n",
    "Python adlı bir İngiliz komedi grubunun, Monty Python’s Flying Circus adlı\n",
    "gösterisinden esinlenerek adlandırmıştır. Ancak her ne kadar gerçek böyle olsa\n",
    "da, Python programlama dilinin pek çok yerde bir yılan figürü ile temsil\n",
    "edilmesi neredeyse bir gelenek halini almıştır.\"\"\"\n",
    "\n",
    "kelime = input(\"Sorgulamak istediğiniz kelime: \"\"\")\n",
    "kelimes=len(kelime)\n",
    "cümles=len(metin)\n",
    "dönmes=cümles - kelimes + 1\n",
    "xveri=[]\n",
    "sayı = 0\n",
    "for x in range(1,dönmes): \n",
    "    arama=\"\"\n",
    "    sayaç=0\n",
    "    for dön in metin:\n",
    "        sayaç += 1\n",
    "        \n",
    "        if sayaç - x < kelimes and sayaç - x >= 0:\n",
    "            arama += dön\n",
    "    \n",
    "    if kelime==arama:\n",
    "        sayı += 1\n",
    "        xveri.append(x)\n",
    "print(90*\"*\")        \n",
    "print(\"aramanızla ilgili\",sayı,\"sonuç bulundu\")\n",
    "print(90*\"*\")\n",
    "print(\"aramanız koyu renk ile aşağıdaki metinde belirtilmiştir.\")\n",
    "print(90*\"*\")\n",
    "sayı=0\n",
    "ilk=0\n",
    "ymetin=\"\"\n",
    "import colorama\n",
    "from colorama import Fore, Back, Style\n",
    "\n",
    "for i in xveri:\n",
    "    for dön in metin:\n",
    "        sayı +=1\n",
    "        if sayı < i and sayı > ilk:\n",
    "            ymetin += dön\n",
    "    sayı=0\n",
    "    for dön in metin:\n",
    "        sayı +=1\n",
    "        if sayı >= i and sayı < i+kelimes:\n",
    "            ymetin += \"\\033[101m\" + dön + \"\\033[0m\" \n",
    "    ilk=i+kelimes-1\n",
    "    sayı=0\n",
    "sayı=0\n",
    "for dön in metin:\n",
    "        sayı +=1\n",
    "        if sayı > i + kelimes-1:\n",
    "            ymetin += dön\n",
    "print(ymetin)"
   ]
  },
  {
   "cell_type": "code",
   "execution_count": null,
   "metadata": {},
   "outputs": [],
   "source": []
  },
  {
   "cell_type": "code",
   "execution_count": null,
   "metadata": {},
   "outputs": [],
   "source": []
  },
  {
   "cell_type": "code",
   "execution_count": null,
   "metadata": {},
   "outputs": [],
   "source": [
    "metin=\"DEMET ve MEHMET\"\n",
    "a=0\n",
    "for i in metin:\n",
    "    a += 1\n",
    "    if a<6:\n",
    "        print(\"\\033[102m\" + i + \"\\033[0m\" ,end=\"\")\n",
    "    elif a>5 and a<10:\n",
    "        print(i,end=\" \")\n",
    "    else:\n",
    "        print(\"\\033[103m\" + i + \"\\033[0m\" ,end=\"\")\n",
    "            \n",
    "    "
   ]
  },
  {
   "cell_type": "code",
   "execution_count": null,
   "metadata": {},
   "outputs": [],
   "source": []
  }
 ],
 "metadata": {
  "kernelspec": {
   "display_name": "Python 3",
   "language": "python",
   "name": "python3"
  },
  "language_info": {
   "codemirror_mode": {
    "name": "ipython",
    "version": 3
   },
   "file_extension": ".py",
   "mimetype": "text/x-python",
   "name": "python",
   "nbconvert_exporter": "python",
   "pygments_lexer": "ipython3",
   "version": "3.7.3"
  }
 },
 "nbformat": 4,
 "nbformat_minor": 2
}
